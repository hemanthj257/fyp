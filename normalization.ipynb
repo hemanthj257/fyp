{
 "cells": [
  {
   "cell_type": "code",
   "execution_count": 11,
   "metadata": {},
   "outputs": [],
   "source": [
    "from PIL import Image\n",
    "import os\n",
    "import numpy as np"
   ]
  },
  {
   "cell_type": "code",
   "execution_count": null,
   "metadata": {},
   "outputs": [],
   "source": [
    "past_dir = '/home/hehe/fyp/dataset/train/past'  # Path to past images\n",
    "current_dir = '/home/hehe/fyp/dataset/train/current'  # Path to current images\n",
    "output_dir = '/home/hehe/fyp/dataset/normalized'  # Directory to save normalized images"
   ]
  },
  {
   "cell_type": "code",
   "execution_count": null,
   "metadata": {},
   "outputs": [],
   "source": [
    "# Image size for resizing (optional if you need consistent size)\n",
    "resize_dim = (224, 224)\n",
    "\n",
    "# Normalization function for [0, 1]\n",
    "def normalize_to_01(image):\n",
    "    # Convert image to numpy array\n",
    "    img_array = np.array(image).astype(np.float32)\n",
    "    # Normalize to [0, 1]\n",
    "    img_array /= 255.0\n",
    "    return Image.fromarray((img_array * 255).astype(np.uint8))  # Convert back to PIL image\n",
    "\n",
    "# Normalization function for [-1, 1]\n",
    "def normalize_to_minus1_1(image):\n",
    "    # Convert image to numpy array\n",
    "    img_array = np.array(image).astype(np.float32)\n",
    "    # Normalize to [0, 1] first, then scale to [-1, 1]\n",
    "    img_array = (img_array / 255.0 - 0.5) * 2.0\n",
    "    return Image.fromarray((img_array * 255).astype(np.uint8))  # Convert back to PIL image\n",
    "\n",
    "# Function to normalize and save images\n",
    "def normalize_images_in_directory(directory, normalization_type='01'):\n",
    "    for filename in os.listdir(directory):\n",
    "        if filename.endswith(\".png\"):  # Only process PNG images\n",
    "            # Open image\n",
    "            img_path = os.path.join(directory, filename)\n",
    "            img = Image.open(img_path)\n",
    "            \n",
    "            # Resize image if needed (optional step)\n",
    "            img = img.resize(resize_dim)\n",
    "            \n",
    "            # Normalize the image\n",
    "            if normalization_type == '01':\n",
    "                normalized_img = normalize_to_01(img)\n",
    "            elif normalization_type == '-1_1':\n",
    "                normalized_img = normalize_to_minus1_1(img)\n",
    "            else:\n",
    "                raise ValueError(\"Normalization type should be '01' or '-1_1'\")\n",
    "            \n",
    "            # Save the normalized image\n",
    "            sub_dir = os.path.basename(directory)  # Get 'past' or 'current' from directory name\n",
    "            output_subdir = os.path.join(output_dir, sub_dir)\n",
    "            os.makedirs(output_subdir, exist_ok=True)\n",
    "            normalized_img.save(os.path.join(output_subdir, filename))\n"
   ]
  },
  {
   "cell_type": "code",
   "execution_count": null,
   "metadata": {},
   "outputs": [
    {
     "name": "stdout",
     "output_type": "stream",
     "text": [
      "Normalization of images and binary mask processing completed!\n"
     ]
    }
   ],
   "source": [
    "# Normalize past images\n",
    "normalize_images_in_directory(past_dir, normalization_type='01')  # Choose '01' or '-1_1'\n",
    "\n",
    "# Normalize current images\n",
    "normalize_images_in_directory(current_dir, normalization_type='01')  # Choose '01' or '-1_1'\n",
    "\n",
    "\n",
    "print(\"Normalization of image processing completed!\")"
   ]
  },
  {
   "cell_type": "code",
   "execution_count": 5,
   "metadata": {},
   "outputs": [],
   "source": [
    "from PIL import Image\n",
    "import os\n",
    "import numpy as np"
   ]
  },
  {
   "cell_type": "code",
   "execution_count": 6,
   "metadata": {},
   "outputs": [],
   "source": [
    "test_past_dir = '/home/hehe/fyp/dataset/test/past'  # Path to past images\n",
    "test_current_dir = '/home/hehe/fyp/dataset/test/current'  # Path to current images\n",
    "test_output_dir = '/home/hehe/fyp/dataset/normalized test'  # Directory to save normalized images"
   ]
  },
  {
   "cell_type": "code",
   "execution_count": 7,
   "metadata": {},
   "outputs": [],
   "source": [
    "# Image size for resizing (optional if you need consistent size)\n",
    "resize_dim = (224, 224)\n",
    "\n",
    "# Normalization function for [0, 1]\n",
    "def normalize_to_01(image):\n",
    "    # Convert image to numpy array\n",
    "    img_array = np.array(image).astype(np.float32)\n",
    "    # Normalize to [0, 1]\n",
    "    img_array /= 255.0\n",
    "    return Image.fromarray((img_array * 255).astype(np.uint8))  # Convert back to PIL image\n",
    "\n",
    "# Normalization function for [-1, 1]\n",
    "def normalize_to_minus1_1(image):\n",
    "    # Convert image to numpy array\n",
    "    img_array = np.array(image).astype(np.float32)\n",
    "    # Normalize to [0, 1] first, then scale to [-1, 1]\n",
    "    img_array = (img_array / 255.0 - 0.5) * 2.0\n",
    "    return Image.fromarray((img_array * 255).astype(np.uint8))  # Convert back to PIL image\n",
    "\n",
    "# Function to normalize and save images\n",
    "def normalize_images_in_directory(directory, normalization_type='01'):\n",
    "    for filename in os.listdir(directory):\n",
    "        if filename.endswith(\".png\"):  # Only process PNG images\n",
    "            # Open image\n",
    "            img_path = os.path.join(directory, filename)\n",
    "            img = Image.open(img_path)\n",
    "            \n",
    "            # Resize image if needed (optional step)\n",
    "            img = img.resize(resize_dim)\n",
    "            \n",
    "            # Normalize the image\n",
    "            if normalization_type == '01':\n",
    "                normalized_img = normalize_to_01(img)\n",
    "            elif normalization_type == '-1_1':\n",
    "                normalized_img = normalize_to_minus1_1(img)\n",
    "            else:\n",
    "                raise ValueError(\"Normalization type should be '01' or '-1_1'\")\n",
    "            \n",
    "            # Save the normalized image\n",
    "            sub_dir = os.path.basename(directory)  # Get 'past' or 'current' from directory name\n",
    "            output_subdir = os.path.join(test_output_dir, sub_dir)\n",
    "            os.makedirs(output_subdir, exist_ok=True)\n",
    "            normalized_img.save(os.path.join(output_subdir, filename))\n"
   ]
  },
  {
   "cell_type": "code",
   "execution_count": 8,
   "metadata": {},
   "outputs": [
    {
     "name": "stdout",
     "output_type": "stream",
     "text": [
      "Normalization of image processing completed!\n"
     ]
    }
   ],
   "source": [
    "# Normalize past images\n",
    "normalize_images_in_directory(test_past_dir, normalization_type='01')  # Choose '01' or '-1_1'\n",
    "\n",
    "# Normalize current images\n",
    "normalize_images_in_directory(test_current_dir, normalization_type='01')  # Choose '01' or '-1_1'\n",
    "\n",
    "\n",
    "print(\"Normalization of image processing completed!\")"
   ]
  },
  {
   "cell_type": "code",
   "execution_count": null,
   "metadata": {},
   "outputs": [],
   "source": []
  }
 ],
 "metadata": {
  "kernelspec": {
   "display_name": "fyp",
   "language": "python",
   "name": "python3"
  },
  "language_info": {
   "codemirror_mode": {
    "name": "ipython",
    "version": 3
   },
   "file_extension": ".py",
   "mimetype": "text/x-python",
   "name": "python",
   "nbconvert_exporter": "python",
   "pygments_lexer": "ipython3",
   "version": "3.10.15"
  }
 },
 "nbformat": 4,
 "nbformat_minor": 2
}
