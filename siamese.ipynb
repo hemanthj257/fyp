{
 "cells": [
  {
   "cell_type": "code",
   "execution_count": 1,
   "metadata": {},
   "outputs": [],
   "source": [
    "import os\n",
    "import torch\n",
    "import torch.nn as nn\n",
    "from torch.utils.data import Dataset, DataLoader\n",
    "from torchvision import models, transforms\n",
    "from PIL import Image"
   ]
  },
  {
   "cell_type": "code",
   "execution_count": 2,
   "metadata": {},
   "outputs": [],
   "source": [
    "# Define the Siamese Network architecture\n",
    "class SiameseChangeDetectionModel(nn.Module):\n",
    "    def __init__(self):\n",
    "        super(SiameseChangeDetectionModel, self).__init__()\n",
    "        # Shared Encoder (e.g., ResNet18 without the last layers)\n",
    "        resnet = models.resnet18(pretrained=True)\n",
    "        self.encoder = nn.Sequential(*list(resnet.children())[:-2])  # Remove the last two layers\n",
    "        \n",
    "        # Decoder to generate the binary mask\n",
    "        self.decoder = nn.Sequential(\n",
    "            nn.ConvTranspose2d(512, 256, kernel_size=2, stride=2),  # 8x8 -> 16x16\n",
    "            nn.ReLU(inplace=True),\n",
    "            nn.ConvTranspose2d(256, 128, kernel_size=2, stride=2),  # 16x16 -> 32x32\n",
    "            nn.ReLU(inplace=True),\n",
    "            nn.ConvTranspose2d(128, 64, kernel_size=2, stride=2),   # 32x32 -> 64x64\n",
    "            nn.ReLU(inplace=True),\n",
    "            nn.ConvTranspose2d(64, 32, kernel_size=2, stride=2),    # 64x64 -> 128x128\n",
    "            nn.ReLU(inplace=True),\n",
    "            nn.ConvTranspose2d(32, 16, kernel_size=2, stride=2),    # 128x128 -> 256x256\n",
    "            nn.ReLU(inplace=True),\n",
    "            nn.ConvTranspose2d(16, 1, kernel_size=1),               # Final layer\n",
    "            nn.Sigmoid()  # For binary mask output\n",
    "        )\n",
    "        \n",
    "    def forward(self, x1, x2):\n",
    "        # Encode both images\n",
    "        f1 = self.encoder(x1)\n",
    "        f2 = self.encoder(x2)\n",
    "        # Compute feature difference\n",
    "        diff = torch.abs(f1 - f2)\n",
    "        # Decode to get the change mask\n",
    "        out = self.decoder(diff)\n",
    "        return out"
   ]
  },
  {
   "cell_type": "code",
   "execution_count": 3,
   "metadata": {},
   "outputs": [],
   "source": [
    "# Prepare the dataset\n",
    "class ChangeDetectionDataset(Dataset):\n",
    "    def __init__(self, image_dir1, image_dir2, mask_dir, transform=None):\n",
    "        self.image_dir1 = image_dir1\n",
    "        self.image_dir2 = image_dir2\n",
    "        self.mask_dir = mask_dir\n",
    "        self.transform = transform\n",
    "        self.filenames = os.listdir(self.image_dir1)\n",
    "        \n",
    "    def __len__(self):\n",
    "        return len(self.filenames)\n",
    "    \n",
    "    def __getitem__(self, idx):\n",
    "        filename = self.filenames[idx]\n",
    "        img1 = Image.open(os.path.join(self.image_dir1, filename)).convert('RGB')\n",
    "        img2 = Image.open(os.path.join(self.image_dir2, filename)).convert('RGB')\n",
    "        mask = Image.open(os.path.join(self.mask_dir, filename)).convert('L')\n",
    "        \n",
    "        if self.transform:\n",
    "            img1 = self.transform(img1)\n",
    "            img2 = self.transform(img2)\n",
    "            mask = self.transform(mask)\n",
    "            mask = (mask > 0).float()  # Binarize the mask\n",
    "            \n",
    "        return img1, img2, mask"
   ]
  },
  {
   "cell_type": "code",
   "execution_count": 4,
   "metadata": {},
   "outputs": [],
   "source": [
    "def __getitem__(self, idx):\n",
    "    # ... existing code ...\n",
    "    if self.transform:\n",
    "        img1 = self.transform(img1)\n",
    "        img2 = self.transform(img2)\n",
    "        mask = self.transform(mask)\n",
    "        mask = (mask > 0).float()  # Binarize the mask if it's not already"
   ]
  },
  {
   "cell_type": "code",
   "execution_count": 5,
   "metadata": {},
   "outputs": [],
   "source": [
    "# Define transformations\n",
    "transform = transforms.Compose([\n",
    "    transforms.Resize((256, 256)),\n",
    "    transforms.ToTensor(),\n",
    "])"
   ]
  },
  {
   "cell_type": "code",
   "execution_count": 6,
   "metadata": {},
   "outputs": [],
   "source": [
    "# Create dataset and dataloader\n",
    "image_dir1 = '/home/hehe/fyp/dataset/normalized/current'\n",
    "image_dir2 = '/home/hehe/fyp/dataset/normalized/past'\n",
    "mask_dir = '/home/hehe/fyp/dataset/train/masks'"
   ]
  },
  {
   "cell_type": "code",
   "execution_count": 9,
   "metadata": {},
   "outputs": [],
   "source": [
    "dataset = ChangeDetectionDataset(image_dir1, image_dir2, mask_dir, transform=transform)\n",
    "dataloader = DataLoader(dataset, batch_size=8, shuffle=True, num_workers=4, pin_memory=True)"
   ]
  },
  {
   "cell_type": "code",
   "execution_count": 10,
   "metadata": {},
   "outputs": [
    {
     "name": "stderr",
     "output_type": "stream",
     "text": [
      "/home/hehe/anaconda3/envs/fyp/lib/python3.10/site-packages/torchvision/models/_utils.py:208: UserWarning: The parameter 'pretrained' is deprecated since 0.13 and may be removed in the future, please use 'weights' instead.\n",
      "  warnings.warn(\n",
      "/home/hehe/anaconda3/envs/fyp/lib/python3.10/site-packages/torchvision/models/_utils.py:223: UserWarning: Arguments other than a weight enum or `None` for 'weights' are deprecated since 0.13 and may be removed in the future. The current behavior is equivalent to passing `weights=ResNet18_Weights.IMAGENET1K_V1`. You can also use `weights=ResNet18_Weights.DEFAULT` to get the most up-to-date weights.\n",
      "  warnings.warn(msg)\n"
     ]
    },
    {
     "name": "stdout",
     "output_type": "stream",
     "text": [
      "Epoch [1/20], Loss: 0.6651\n",
      "Epoch [2/20], Loss: 0.2233\n",
      "Epoch [3/20], Loss: 0.1841\n",
      "Epoch [4/20], Loss: 0.1672\n",
      "Epoch [5/20], Loss: 0.1587\n",
      "Epoch [6/20], Loss: 0.1510\n",
      "Epoch [7/20], Loss: 0.1470\n",
      "Epoch [8/20], Loss: 0.1436\n",
      "Epoch [9/20], Loss: 0.1404\n",
      "Epoch [10/20], Loss: 0.1381\n",
      "Epoch [11/20], Loss: 0.1346\n",
      "Epoch [12/20], Loss: 0.1325\n",
      "Epoch [13/20], Loss: 0.1303\n",
      "Epoch [14/20], Loss: 0.1267\n",
      "Epoch [15/20], Loss: 0.1234\n",
      "Epoch [16/20], Loss: 0.1202\n",
      "Epoch [17/20], Loss: 0.1171\n",
      "Epoch [18/20], Loss: 0.1141\n",
      "Epoch [19/20], Loss: 0.1117\n",
      "Epoch [20/20], Loss: 0.1090\n"
     ]
    }
   ],
   "source": [
    "# Set up the training loop with CUDA support\n",
    "device = torch.device('cuda' if torch.cuda.is_available() else 'cpu')\n",
    "model = SiameseChangeDetectionModel().to(device)\n",
    "\n",
    "# For multiple GPUs\n",
    "if torch.cuda.device_count() > 1:\n",
    "    model = nn.DataParallel(model)\n",
    "\n",
    "criterion = nn.BCELoss()\n",
    "optimizer = torch.optim.Adam(model.parameters(), lr=1e-4)\n",
    "num_epochs = 20\n",
    "\n",
    "for epoch in range(num_epochs):\n",
    "    model.train()\n",
    "    epoch_loss = 0\n",
    "    for img1, img2, mask in dataloader:\n",
    "        img1 = img1.to(device, non_blocking=True)\n",
    "        img2 = img2.to(device, non_blocking=True)\n",
    "        mask = mask.to(device, non_blocking=True)\n",
    "        \n",
    "        optimizer.zero_grad()\n",
    "        output = model(img1, img2)\n",
    "        loss = criterion(output, mask)\n",
    "        loss.backward()\n",
    "        optimizer.step()\n",
    "        \n",
    "        epoch_loss += loss.item()\n",
    "    avg_loss = epoch_loss / len(dataloader)\n",
    "    print(f'Epoch [{epoch+1}/{num_epochs}], Loss: {avg_loss:.4f}')\n",
    "\n",
    "# Optionally, save the model\n",
    "torch.save(model.state_dict(), 'siamese_change_detection_model.pth')"
   ]
  },
  {
   "cell_type": "code",
   "execution_count": null,
   "metadata": {},
   "outputs": [],
   "source": []
  }
 ],
 "metadata": {
  "kernelspec": {
   "display_name": "fyp",
   "language": "python",
   "name": "python3"
  },
  "language_info": {
   "codemirror_mode": {
    "name": "ipython",
    "version": 3
   },
   "file_extension": ".py",
   "mimetype": "text/x-python",
   "name": "python",
   "nbconvert_exporter": "python",
   "pygments_lexer": "ipython3",
   "version": "3.10.15"
  }
 },
 "nbformat": 4,
 "nbformat_minor": 2
}
