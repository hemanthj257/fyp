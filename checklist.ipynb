{
 "cells": [
  {
   "cell_type": "code",
   "execution_count": 2,
   "metadata": {},
   "outputs": [
    {
     "data": {
      "text/plain": [
       "'/mnt/c/users/heman/Desktop/checklist.csv'"
      ]
     },
     "execution_count": 2,
     "metadata": {},
     "output_type": "execute_result"
    }
   ],
   "source": [
    "import pandas as pd\n",
    "\n",
    "checklist_data = [\n",
    "    (\"Data Preprocessing\", \"Resize images to a consistent size (e.g., 224x224)\"),\n",
    "    (\"Data Preprocessing\", \"Normalize pixel values to [0, 1] or [-1, 1]\"),\n",
    "    (\"Data Preprocessing\", \"Ensure masks are in binary format (0 for no change, 1 for change)\"),\n",
    "    (\"Data Preprocessing\", \"Augment dataset (rotation, flipping, etc.) for better model generalization\"),\n",
    "    (\"Model Building\", \"Use two CNN branches for Siamese Network\"),\n",
    "    (\"Model Building\", \"Merge CNN outputs using a similarity metric (e.g., L2 distance)\"),\n",
    "    (\"Model Building\", \"Apply Contrastive Loss or Triplet Loss to measure similarity/difference\"),\n",
    "    (\"Model Building\", \"Use a suitable architecture like ResNet or VGG for feature extraction\"),\n",
    "    (\"Model Training\", \"Split dataset into training, validation, and test sets\"),\n",
    "    (\"Model Training\", \"Compile the model using an optimizer like Adam\"),\n",
    "    (\"Model Training\", \"Train the model on the prepared dataset\"),\n",
    "    (\"Model Evaluation\", \"Evaluate the model's performance using validation set\"),\n",
    "    (\"Model Evaluation\", \"Use metrics like accuracy, F1 score to assess model performance\"),\n",
    "    (\"Model Evaluation\", \"Test the model on the test set\"),\n",
    "    (\"Post-Training\", \"Save the trained model for inference\"),\n",
    "    (\"Post-Training\", \"Use the model to predict change detection in new image pairs\"),\n",
    "]\n",
    "\n",
    "checklist = pd.DataFrame(checklist_data, columns= [\"step\", \"task\"])\n",
    "\n",
    "checklist_csv_path = \"/mnt/c/users/heman/Desktop/checklist.csv\"\n",
    "checklist.to_csv(checklist_csv_path, index=False)\n",
    "\n",
    "checklist_csv_path"
   ]
  },
  {
   "cell_type": "code",
   "execution_count": null,
   "metadata": {},
   "outputs": [],
   "source": []
  }
 ],
 "metadata": {
  "kernelspec": {
   "display_name": "fyp",
   "language": "python",
   "name": "python3"
  },
  "language_info": {
   "codemirror_mode": {
    "name": "ipython",
    "version": 3
   },
   "file_extension": ".py",
   "mimetype": "text/x-python",
   "name": "python",
   "nbconvert_exporter": "python",
   "pygments_lexer": "ipython3",
   "version": "3.10.15"
  }
 },
 "nbformat": 4,
 "nbformat_minor": 2
}
