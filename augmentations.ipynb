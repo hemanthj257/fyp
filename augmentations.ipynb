{
 "cells": [
  {
   "cell_type": "code",
   "execution_count": 1,
   "metadata": {},
   "outputs": [],
   "source": [
    "import os\n",
    "import random\n",
    "from PIL import Image\n",
    "import torchvision.transforms.functional as TF"
   ]
  },
  {
   "cell_type": "code",
   "execution_count": 2,
   "metadata": {},
   "outputs": [],
   "source": [
    "# Define the augmentation class\n",
    "class Augmentation:\n",
    "    def __init__(self):\n",
    "        pass\n",
    "    \n",
    "    def __call__(self, image1, image2, mask):\n",
    "        # Random rotation between -30 and 30 degrees\n",
    "        angle = random.uniform(-30, 30)\n",
    "        image1 = TF.rotate(image1, angle)\n",
    "        image2 = TF.rotate(image2, angle)\n",
    "        mask = TF.rotate(mask, angle)\n",
    "        \n",
    "        # Random horizontal flip\n",
    "        if random.random() > 0.5:\n",
    "            image1 = TF.hflip(image1)\n",
    "            image2 = TF.hflip(image2)\n",
    "            mask = TF.hflip(mask)\n",
    "        \n",
    "        # Random vertical flip\n",
    "        if random.random() > 0.5:\n",
    "            image1 = TF.vflip(image1)\n",
    "            image2 = TF.vflip(image2)\n",
    "            mask = TF.vflip(mask)\n",
    "        \n",
    "        return image1, image2, mask"
   ]
  },
  {
   "cell_type": "code",
   "execution_count": 3,
   "metadata": {},
   "outputs": [],
   "source": [
    "# Paths to your directories\n",
    "image_dir1 = '/home/hehe/fyp/dataset/train/current'\n",
    "image_dir2 = '/home/hehe/fyp/dataset/train/past'\n",
    "mask_dir = '/home/hehe/fyp/dataset/train/masks'\n"
   ]
  },
  {
   "cell_type": "code",
   "execution_count": 4,
   "metadata": {},
   "outputs": [],
   "source": [
    "# Output directories\n",
    "aug_image_dir1 = '/home/hehe/fyp/dataset/augmented/current'\n",
    "aug_image_dir2 = '/home/hehe/fyp/dataset/augmented/past'\n",
    "aug_mask_dir = '/home/hehe/fyp/dataset/augmented/masks'"
   ]
  },
  {
   "cell_type": "code",
   "execution_count": 5,
   "metadata": {},
   "outputs": [],
   "source": [
    "os.makedirs(aug_image_dir1, exist_ok=True)\n",
    "os.makedirs(aug_image_dir2, exist_ok=True)\n",
    "os.makedirs(aug_mask_dir, exist_ok=True)\n",
    "\n",
    "# Instantiate the augmentation\n",
    "augment = Augmentation()\n",
    "\n",
    "# Get list of image filenames\n",
    "filenames = os.listdir(image_dir1)\n",
    "\n",
    "for filename in filenames:\n",
    "    # Load images and mask\n",
    "    image1_path = os.path.join(image_dir1, filename)\n",
    "    image2_path = os.path.join(image_dir2, filename)\n",
    "    mask_path = os.path.join(mask_dir, filename)\n",
    "    \n",
    "    image1 = Image.open(image1_path).convert('RGB')\n",
    "    image2 = Image.open(image2_path).convert('RGB')\n",
    "    mask = Image.open(mask_path).convert('L')  # Assuming mask is grayscale\n",
    "    \n",
    "    # Apply augmentation\n",
    "    image1_aug, image2_aug, mask_aug = augment(image1, image2, mask)\n",
    "    \n",
    "    # Save augmented images and mask\n",
    "    image1_aug.save(os.path.join(aug_image_dir1, f'aug_{filename}'))\n",
    "    image2_aug.save(os.path.join(aug_image_dir2, f'aug_{filename}'))\n",
    "    mask_aug.save(os.path.join(aug_mask_dir, f'aug_{filename}'))"
   ]
  },
  {
   "cell_type": "code",
   "execution_count": null,
   "metadata": {},
   "outputs": [],
   "source": []
  }
 ],
 "metadata": {
  "kernelspec": {
   "display_name": "fyp",
   "language": "python",
   "name": "python3"
  },
  "language_info": {
   "codemirror_mode": {
    "name": "ipython",
    "version": 3
   },
   "file_extension": ".py",
   "mimetype": "text/x-python",
   "name": "python",
   "nbconvert_exporter": "python",
   "pygments_lexer": "ipython3",
   "version": "3.10.15"
  }
 },
 "nbformat": 4,
 "nbformat_minor": 2
}
