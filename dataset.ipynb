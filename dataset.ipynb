{
 "cells": [
  {
   "cell_type": "code",
   "execution_count": 15,
   "metadata": {},
   "outputs": [
    {
     "ename": "KeyboardInterrupt",
     "evalue": "",
     "output_type": "error",
     "traceback": [
      "\u001b[0;31m---------------------------------------------------------------------------\u001b[0m",
      "\u001b[0;31mKeyboardInterrupt\u001b[0m                         Traceback (most recent call last)",
      "Cell \u001b[0;32mIn[15], line 17\u001b[0m\n\u001b[1;32m     14\u001b[0m \u001b[38;5;28;01mif\u001b[39;00m filename\u001b[38;5;241m.\u001b[39mendswith(\u001b[38;5;124m\"\u001b[39m\u001b[38;5;124m.png\u001b[39m\u001b[38;5;124m\"\u001b[39m):  \u001b[38;5;66;03m# Only resize PNG files\u001b[39;00m\n\u001b[1;32m     15\u001b[0m     \u001b[38;5;66;03m# Open an image\u001b[39;00m\n\u001b[1;32m     16\u001b[0m     img_path \u001b[38;5;241m=\u001b[39m os\u001b[38;5;241m.\u001b[39mpath\u001b[38;5;241m.\u001b[39mjoin(image_dir, filename)\n\u001b[0;32m---> 17\u001b[0m     img \u001b[38;5;241m=\u001b[39m \u001b[43mImage\u001b[49m\u001b[38;5;241;43m.\u001b[39;49m\u001b[43mopen\u001b[49m\u001b[43m(\u001b[49m\u001b[43mimg_path\u001b[49m\u001b[43m)\u001b[49m\n\u001b[1;32m     19\u001b[0m     \u001b[38;5;66;03m# Resize image\u001b[39;00m\n\u001b[1;32m     20\u001b[0m     resized_img \u001b[38;5;241m=\u001b[39m img\u001b[38;5;241m.\u001b[39mresize((\u001b[38;5;241m224\u001b[39m, \u001b[38;5;241m224\u001b[39m))  \u001b[38;5;66;03m# Resize to 224x224\u001b[39;00m\n",
      "File \u001b[0;32m~/anaconda3/envs/fyp/lib/python3.10/site-packages/PIL/Image.py:3247\u001b[0m, in \u001b[0;36mopen\u001b[0;34m(fp, mode, formats)\u001b[0m\n\u001b[1;32m   3244\u001b[0m     filename \u001b[38;5;241m=\u001b[39m fp\n\u001b[1;32m   3246\u001b[0m \u001b[38;5;28;01mif\u001b[39;00m filename:\n\u001b[0;32m-> 3247\u001b[0m     fp \u001b[38;5;241m=\u001b[39m \u001b[43mbuiltins\u001b[49m\u001b[38;5;241;43m.\u001b[39;49m\u001b[43mopen\u001b[49m\u001b[43m(\u001b[49m\u001b[43mfilename\u001b[49m\u001b[43m,\u001b[49m\u001b[43m \u001b[49m\u001b[38;5;124;43m\"\u001b[39;49m\u001b[38;5;124;43mrb\u001b[39;49m\u001b[38;5;124;43m\"\u001b[39;49m\u001b[43m)\u001b[49m\n\u001b[1;32m   3248\u001b[0m     exclusive_fp \u001b[38;5;241m=\u001b[39m \u001b[38;5;28;01mTrue\u001b[39;00m\n\u001b[1;32m   3250\u001b[0m \u001b[38;5;28;01mtry\u001b[39;00m:\n",
      "\u001b[0;31mKeyboardInterrupt\u001b[0m: "
     ]
    }
   ],
   "source": [
    "# past image resizing\n",
    "from PIL import Image\n",
    "import os\n",
    "\n",
    "# Directory containing your images\n",
    "image_dir = '/mnt/d/Final Year Project/dataset/LEVIR-CD+/train/A'  # Update this with the correct path\n",
    "output_dir = '/home/hehe/fyp/data/past'  # Directory to save resized images\n",
    "\n",
    "# Create output directory if it doesn't exist\n",
    "os.makedirs(output_dir, exist_ok=True)\n",
    "\n",
    "# Resize images\n",
    "for filename in os.listdir(image_dir):\n",
    "    if filename.endswith(\".png\"):  # Only resize PNG files\n",
    "        # Open an image\n",
    "        img_path = os.path.join(image_dir, filename)\n",
    "        img = Image.open(img_path)\n",
    "        \n",
    "        # Resize image\n",
    "        resized_img = img.resize((224, 224))  # Resize to 224x224\n",
    "        \n",
    "        # Save resized image\n",
    "        resized_img.save(os.path.join(output_dir, filename))\n",
    "\n",
    "print(\"Resizing completed!\")\n"
   ]
  },
  {
   "cell_type": "code",
   "execution_count": 1,
   "metadata": {},
   "outputs": [
    {
     "name": "stdout",
     "output_type": "stream",
     "text": [
      "Resizing completed!\n"
     ]
    }
   ],
   "source": [
    "# past image resizing\n",
    "from PIL import Image\n",
    "import os\n",
    "\n",
    "# Directory containing your images\n",
    "image_dir = '/mnt/d/Final Year Project/dataset/LEVIR-CD+/train/B'  # Update this with the correct path\n",
    "output_dir = '/home/hehe/fyp/data/current'  # Directory to save resized images\n",
    "\n",
    "# Create output directory if it doesn't exist\n",
    "os.makedirs(output_dir, exist_ok=True)\n",
    "\n",
    "# Resize images\n",
    "for filename in os.listdir(image_dir):\n",
    "    if filename.endswith(\".png\"):  # Only resize PNG files\n",
    "        # Open an image\n",
    "        img_path = os.path.join(image_dir, filename)\n",
    "        img = Image.open(img_path)\n",
    "        \n",
    "        # Resize image\n",
    "        resized_img = img.resize((224, 224))  # Resize to 224x224\n",
    "        \n",
    "        # Save resized image\n",
    "        resized_img.save(os.path.join(output_dir, filename))\n",
    "\n",
    "print(\"Resizing completed!\")\n"
   ]
  },
  {
   "cell_type": "code",
   "execution_count": 2,
   "metadata": {},
   "outputs": [
    {
     "name": "stdout",
     "output_type": "stream",
     "text": [
      "Resizing completed!\n"
     ]
    }
   ],
   "source": [
    "# past image resizing\n",
    "from PIL import Image\n",
    "import os\n",
    "\n",
    "# Directory containing your images\n",
    "image_dir = '/mnt/d/Final Year Project/dataset/LEVIR-CD+/train/label'  # Update this with the correct path\n",
    "output_dir = '/home/hehe/fyp/data/masks'  # Directory to save resized images\n",
    "\n",
    "# Create output directory if it doesn't exist\n",
    "os.makedirs(output_dir, exist_ok=True)\n",
    "\n",
    "# Resize images\n",
    "for filename in os.listdir(image_dir):\n",
    "    if filename.endswith(\".png\"):  # Only resize PNG files\n",
    "        # Open an image\n",
    "        img_path = os.path.join(image_dir, filename)\n",
    "        img = Image.open(img_path)\n",
    "        \n",
    "        # Resize image\n",
    "        resized_img = img.resize((224, 224))  # Resize to 224x224\n",
    "        \n",
    "        # Save resized image\n",
    "        resized_img.save(os.path.join(output_dir, filename))\n",
    "\n",
    "print(\"Resizing completed!\")\n"
   ]
  },
  {
   "cell_type": "code",
   "execution_count": 3,
   "metadata": {},
   "outputs": [],
   "source": [
    "\n",
    "import os\n",
    "import shutil\n",
    "from sklearn.model_selection import train_test_split"
   ]
  },
  {
   "cell_type": "code",
   "execution_count": 4,
   "metadata": {},
   "outputs": [],
   "source": [
    "dataset_path = \"/home/hehe/fyp/data\"  # Replace with your dataset path\n",
    "output_path = \"/home/hehe/fyp/dataset\"      # Path for the organized dataset\n",
    "os.makedirs(output_path, exist_ok=True)"
   ]
  },
  {
   "cell_type": "code",
   "execution_count": 5,
   "metadata": {},
   "outputs": [],
   "source": [
    "# Create train, val, and test directories\n",
    "for split in [\"train\", \"val\", \"test\"]:\n",
    "    os.makedirs(os.path.join(output_path, split, \"past\"), exist_ok=True)\n",
    "    os.makedirs(os.path.join(output_path, split, \"current\"), exist_ok=True)\n",
    "    os.makedirs(os.path.join(output_path, split, \"masks\"), exist_ok=True)"
   ]
  },
  {
   "cell_type": "code",
   "execution_count": 6,
   "metadata": {},
   "outputs": [],
   "source": [
    "past_dir = os.path.join(dataset_path, \"past\")      # Folder for past images\n",
    "current_dir = os.path.join(dataset_path, \"current\")  # Folder for current images\n",
    "mask_dir = os.path.join(dataset_path, \"masks\")     # Folder for masks\n"
   ]
  },
  {
   "cell_type": "code",
   "execution_count": 7,
   "metadata": {},
   "outputs": [],
   "source": [
    "past_files = sorted([f for f in os.listdir(past_dir) if f.endswith(\".png\")])\n",
    "current_files = sorted([f for f in os.listdir(current_dir) if f.endswith(\".png\")])\n",
    "mask_files = sorted([f for f in os.listdir(mask_dir) if f.endswith(\".png\")])"
   ]
  },
  {
   "cell_type": "code",
   "execution_count": 8,
   "metadata": {},
   "outputs": [],
   "source": [
    "assert len(past_files) == len(current_files) == len(mask_files), \"Mismatch in the number of files!\"\n",
    "assert all(\n",
    "    past.split(\"_\")[1] == current.split(\"_\")[1] == mask.split(\"_\")[1]\n",
    "    for past, current, mask in zip(past_files, current_files, mask_files)\n",
    "), \"Mismatch in file naming!\""
   ]
  },
  {
   "cell_type": "code",
   "execution_count": 9,
   "metadata": {},
   "outputs": [],
   "source": [
    "train_files, temp_files = train_test_split(\n",
    "    list(zip(past_files, current_files, mask_files)), test_size=0.3, random_state=42\n",
    ")\n",
    "val_files, test_files = train_test_split(\n",
    "    temp_files, test_size=0.5, random_state=42\n",
    ")"
   ]
  },
  {
   "cell_type": "code",
   "execution_count": 10,
   "metadata": {},
   "outputs": [],
   "source": [
    "# Helper function to copy files\n",
    "def copy_files(file_triplets, src_dirs, dst_dirs):\n",
    "    for past, current, mask in file_triplets:\n",
    "        shutil.copy(os.path.join(src_dirs[\"past\"], past), os.path.join(dst_dirs[\"past\"], past))\n",
    "        shutil.copy(os.path.join(src_dirs[\"current\"], current), os.path.join(dst_dirs[\"current\"], current))\n",
    "        shutil.copy(os.path.join(src_dirs[\"masks\"], mask), os.path.join(dst_dirs[\"masks\"], mask))"
   ]
  },
  {
   "cell_type": "code",
   "execution_count": 11,
   "metadata": {},
   "outputs": [],
   "source": [
    "src_dirs = {\"past\": past_dir, \"current\": current_dir, \"masks\": mask_dir}\n",
    "dst_dirs = {\n",
    "    \"train\": {\"past\": os.path.join(output_path, \"train\", \"past\"),\n",
    "              \"current\": os.path.join(output_path, \"train\", \"current\"),\n",
    "              \"masks\": os.path.join(output_path, \"train\", \"masks\")},\n",
    "    \"val\": {\"past\": os.path.join(output_path, \"val\", \"past\"),\n",
    "            \"current\": os.path.join(output_path, \"val\", \"current\"),\n",
    "            \"masks\": os.path.join(output_path, \"val\", \"masks\")},\n",
    "    \"test\": {\"past\": os.path.join(output_path, \"test\", \"past\"),\n",
    "             \"current\": os.path.join(output_path, \"test\", \"current\"),\n",
    "             \"masks\": os.path.join(output_path, \"test\", \"masks\")}\n",
    "}"
   ]
  },
  {
   "cell_type": "code",
   "execution_count": 12,
   "metadata": {},
   "outputs": [
    {
     "name": "stdout",
     "output_type": "stream",
     "text": [
      "Dataset with past and current image pairs organized successfully!\n"
     ]
    }
   ],
   "source": [
    "# Copy files to respective directories\n",
    "copy_files(train_files, src_dirs, dst_dirs[\"train\"])\n",
    "copy_files(val_files, src_dirs, dst_dirs[\"val\"])\n",
    "copy_files(test_files, src_dirs, dst_dirs[\"test\"])\n",
    "\n",
    "print(\"Dataset with past and current image pairs organized successfully!\")"
   ]
  },
  {
   "cell_type": "code",
   "execution_count": null,
   "metadata": {},
   "outputs": [],
   "source": []
  }
 ],
 "metadata": {
  "kernelspec": {
   "display_name": "fyp",
   "language": "python",
   "name": "python3"
  },
  "language_info": {
   "codemirror_mode": {
    "name": "ipython",
    "version": 3
   },
   "file_extension": ".py",
   "mimetype": "text/x-python",
   "name": "python",
   "nbconvert_exporter": "python",
   "pygments_lexer": "ipython3",
   "version": "3.10.15"
  }
 },
 "nbformat": 4,
 "nbformat_minor": 2
}
